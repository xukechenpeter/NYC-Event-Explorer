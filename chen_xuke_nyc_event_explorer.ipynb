{
  "cells": [
    {
      "cell_type": "markdown",
      "metadata": {
        "id": "5sLRGMUhd5Na"
      },
      "source": [
        "# NYC Event Explorer\n",
        "Team 3: Xuke Chen, Inna Diambekova, Shah Alam, Asher Vaysblat"
      ]
    },
    {
      "cell_type": "markdown",
      "source": [
        "### **Import Dataset**"
      ],
      "metadata": {
        "id": "VwMbaf7z5LEE"
      }
    },
    {
      "cell_type": "code",
      "execution_count": 41,
      "metadata": {
        "id": "jro_LZdP6Fem"
      },
      "outputs": [],
      "source": [
        "#import libraries needed\n",
        "import requests\n",
        "import pandas as pd\n",
        "from datetime import datetime, date"
      ]
    },
    {
      "cell_type": "code",
      "execution_count": 42,
      "metadata": {
        "id": "lTwtPBAD6btg",
        "colab": {
          "base_uri": "https://localhost:8080/"
        },
        "outputId": "774b4479-23e0-4592-d89e-fc05cf4fdb30"
      },
      "outputs": [
        {
          "output_type": "stream",
          "name": "stderr",
          "text": [
            "<ipython-input-42-ef1c207f2cb0>:24: SettingWithCopyWarning: \n",
            "A value is trying to be set on a copy of a slice from a DataFrame.\n",
            "Try using .loc[row_indexer,col_indexer] = value instead\n",
            "\n",
            "See the caveats in the documentation: https://pandas.pydata.org/pandas-docs/stable/user_guide/indexing.html#returning-a-view-versus-a-copy\n",
            "  df.at[d,'start_day']=datetime.strptime(df.at[d,'start_date'], '%Y-%m-%d').date().strftime('%A')\n",
            "<ipython-input-42-ef1c207f2cb0>:25: SettingWithCopyWarning: \n",
            "A value is trying to be set on a copy of a slice from a DataFrame.\n",
            "Try using .loc[row_indexer,col_indexer] = value instead\n",
            "\n",
            "See the caveats in the documentation: https://pandas.pydata.org/pandas-docs/stable/user_guide/indexing.html#returning-a-view-versus-a-copy\n",
            "  df.at[d,'end_day']=datetime.strptime(df.at[d,'end_date'], '%Y-%m-%d').date().strftime('%A')\n"
          ]
        }
      ],
      "source": [
        "#Fetch the data in JSON format\n",
        "url=\"https://data.cityofnewyork.us/resource/tvpp-9vvx.json?$limit=7243\"\n",
        "results = requests.get(url).json()\n",
        "\n",
        "#Creating a DataFrame from JSON data\n",
        "df=pd.DataFrame(results)\n",
        "#Filter out unrelated events\n",
        "df = df[~df['event_name'].str.contains('Lawn|Landscape|Miscellaneous', case=False)]\n",
        "# Create date and time columns\n",
        "df['start_date'] = df['start_date_time'].str[:10]\n",
        "df['start_time'] = df['start_date_time'].str[-12:]\n",
        "df['start_time'] = df['start_time'].str[:8]\n",
        "df['end_date'] = df['end_date_time'].str[:10]\n",
        "df['end_time'] = df['end_date_time'].str[-12:]\n",
        "#Convert 24hr time to 12hr time\n",
        "def convert_to_12hr(time_24hr):\n",
        "    time_obj = datetime.strptime(time_24hr, \"%H:%M:%S\")\n",
        "    return time_obj.strftime(\"%I:%M:%S %p\")\n",
        "df['start_time'] = df['start_time'].apply(convert_to_12hr)\n",
        "#Filter only special event\n",
        "df = df[df['event_type'] == 'Special Event']\n",
        "#Create a day column\n",
        "for d in df.index:\n",
        "  df.at[d,'start_day']=datetime.strptime(df.at[d,'start_date'], '%Y-%m-%d').date().strftime('%A')\n",
        "  df.at[d,'end_day']=datetime.strptime(df.at[d,'end_date'], '%Y-%m-%d').date().strftime('%A')\n",
        "\n",
        "# Group by 'EventName', aggregate with the earliest 'StartDateTime' and latest 'EndDateTime' for repeating events\n",
        "consolidated_df = df.groupby('event_name').agg({\n",
        "    'start_date': 'min',\n",
        "    'end_date': 'max',\n",
        "    'start_time' : 'min',\n",
        "    'start_day' : 'min',\n",
        "    'end_time' :'max',\n",
        "    'end_day' : 'max'\n",
        "}).reset_index()\n",
        "# Merge the consolidated dates back to the original DataFrame\n",
        "final_df = pd.merge(df[['event_name','event_borough','event_location']], consolidated_df, on='event_name', how='left')\n",
        "# Drop duplicates to keep only unique event names\n",
        "final_df.drop_duplicates(subset='event_name', keep='first', inplace=True)\n",
        "# re-index\n",
        "df = final_df.reset_index(drop=True)\n",
        "\n",
        "#Reorder columns and delete unnecessary columns\n",
        "df=df[['event_name','start_date','start_time','start_day','end_date','end_time','end_day','event_borough','event_location']]\n",
        "#pick our editor's choice\n",
        "editor= df[df['event_name'].isin(['2023 LIC Holiday Tree and Lighting in the Vernon Mall','Big Apple Circus','2023 HOLIDAY MARKET','Avenue Of The Americas Holiday Season Gift Expo','UN HQ Menorah','Colored Colors Holiday Market','Holiday Lighting Ceremony','Holiday Festival','Charity Law Enforcement Christmas Motorcycle Run for Toys for Tots','Astoria Christmas Parade','Christmas Caroling with NYCO','William F Moore Christmas Tree Lighting','Festival of Lights','Senator Liu Holiday Parade','ROCKAWAY BAECH SANTA SUIT 5K','Meet Santa Paws','Christmas Carol peace in the world.','The Reason for the Season Holiday Lights Ceremony','Toy Drive','Holiday Lights Night','Coke Holiday Program','Washington Square Holiday Caroling','Annual Park Avenue Tree Lighting','Bleecker Street Holiday Block Party','festival of Lights Series','Bleecker Street Holiday Block Party','festival of Lights Series'])]\n",
        "df=df.reset_index(drop=True)"
      ]
    },
    {
      "cell_type": "markdown",
      "metadata": {
        "id": "Fex18XWtJ50A"
      },
      "source": [
        "### A. **Import Necessary Libraries**"
      ]
    },
    {
      "cell_type": "code",
      "execution_count": 43,
      "metadata": {
        "colab": {
          "base_uri": "https://localhost:8080/"
        },
        "id": "t1HlxLaRJ-uv",
        "outputId": "ed7a1260-cc1c-4762-b57b-d02959f6f8bb"
      },
      "outputs": [
        {
          "output_type": "stream",
          "name": "stdout",
          "text": [
            "Requirement already satisfied: pyngrok==7.0.1 in /usr/local/lib/python3.10/dist-packages (7.0.1)\n",
            "Requirement already satisfied: PyYAML in /usr/local/lib/python3.10/dist-packages (from pyngrok==7.0.1) (6.0.1)\n",
            "Completed!\n"
          ]
        }
      ],
      "source": [
        "#!pip install pyngrok --quiet\n",
        "!pip install pyngrok==7.0.1\n",
        "!pip install flask-ngrok --quiet\n",
        "print(\"Completed!\")"
      ]
    },
    {
      "cell_type": "markdown",
      "metadata": {
        "id": "71E1yzcHLWpL"
      },
      "source": [
        "### B. **Get your AuthToken from ngrok using this link-** https://dashboard.ngrok.com/get-started/your-authtoken"
      ]
    },
    {
      "cell_type": "code",
      "execution_count": 44,
      "metadata": {
        "colab": {
          "base_uri": "https://localhost:8080/"
        },
        "id": "NT9jLOvm6zVe",
        "outputId": "76ae8091-111b-4efa-f1e1-53e5451a9619"
      },
      "outputs": [
        {
          "output_type": "stream",
          "name": "stdout",
          "text": [
            "Authtoken saved to configuration file: /root/.ngrok2/ngrok.yml\n"
          ]
        }
      ],
      "source": [
        "# paste your AuthToken here and execute this command\n",
        "#!ngrok config add-authtoken 2YzM8tzTtyawZFXXIizYKtCOxYS_55w3iNiAs4N14tVS5ASqN #KS\n",
        "\n",
        "!ngrok config add-authtoken 2YvDmJRG3Jjn29CHftHQCHV7PQI_VDyGPLcqhuhGHdHWkETP #My own token (Xuke)"
      ]
    },
    {
      "cell_type": "markdown",
      "metadata": {
        "id": "Uk9z8U_cFaH6"
      },
      "source": [
        "###C. **Make your templates directory and add files to it.**"
      ]
    },
    {
      "cell_type": "code",
      "execution_count": 45,
      "metadata": {
        "id": "fijog7_JFYC3"
      },
      "outputs": [],
      "source": [
        "#Make the template.\n",
        "%mkdir templates -p"
      ]
    },
    {
      "cell_type": "code",
      "execution_count": 46,
      "metadata": {
        "colab": {
          "base_uri": "https://localhost:8080/"
        },
        "id": "9kMXYsXfFfx2",
        "outputId": "45505c2a-1138-468d-96ad-79bfc8a8cb42"
      },
      "outputs": [
        {
          "output_type": "stream",
          "name": "stdout",
          "text": [
            "Overwriting templates/home.html\n"
          ]
        }
      ],
      "source": [
        "%%writefile templates/home.html\n",
        "<!DOCTYPE html>\n",
        "<html>\n",
        "<head>\n",
        "<title>NYC Event Explorer</title>\n",
        "<link rel=\"stylesheet\" href=\"https://cdn.jsdelivr.net/npm/bootswatch@4.5.2/dist/litera/bootstrap.min.css\" integrity=\"sha384-enpDwFISL6M3ZGZ50Tjo8m65q06uLVnyvkFO3rsoW0UC15ATBFz3QEhr3hmxpYsn\" crossorigin=\"anonymous\">\n",
        "<style>\n",
        "ul {\n",
        "      list-style-type: none;\n",
        "      margin: 0;\n",
        "      padding: 0;\n",
        "      background-color: #ffffff;\n",
        "      overflow: hidden;\n",
        "    }\n",
        "\n",
        "    li {\n",
        "      float: left;\n",
        "    }\n",
        "\n",
        "    li a {\n",
        "      display: block;\n",
        "      color: black;\n",
        "      text-align: right;\n",
        "      padding: 14px 16px;\n",
        "      text-decoration: none;\n",
        "    }\n",
        "img {\n",
        "      float: center;\n",
        "    }\n",
        ".center {\n",
        "            text-align: center;\n",
        "        }\n",
        "</style>\n",
        "</head>\n",
        "\n",
        "<body style=\"background-color:#F4F6F5;\">\n",
        "<ul>\n",
        "    <li><strong><a style=\"font-size:200%;\">NYC Event Explorer</a></strong></li>\n",
        "    <li><strong><a href=\"../\" style=\"font-size:120%;\">Home</a></strong></li>\n",
        "    <li><a href=\"../about\" style=\"font-size:120%;\">About</a></li>\n",
        "    <li><a href=\"../help\" style=\"font-size:120%;\">Help</a></li>\n",
        "  </ul>\n",
        "<div class=\"center\">\n",
        "<h1 style=\"font-size:500%;\">Let's start making memories</h1>\n",
        "<p><strong>Your personal NYC Event Guide.\n",
        "Join us in exploring New York City like never before. </strong></p>\n",
        "<br>\n",
        "</div>\n",
        "      <div class=\"center\">\n",
        "        <img\n",
        "          loading=\"lazy\"\n",
        "          srcset=\"https://cdn.builder.io/api/v1/image/assets/TEMP/ecbfde8b-b1be-4e06-a97f-caaee80b3417?apiKey=2e880f8a63264fa0ae8a2beed9383f6d&width=100 100w, https://cdn.builder.io/api/v1/image/assets/TEMP/ecbfde8b-b1be-4e06-a97f-caaee80b3417?apiKey=2e880f8a63264fa0ae8a2beed9383f6d&width=200 200w, https://cdn.builder.io/api/v1/image/assets/TEMP/ecbfde8b-b1be-4e06-a97f-caaee80b3417?apiKey=2e880f8a63264fa0ae8a2beed9383f6d&width=400 400w, https://cdn.builder.io/api/v1/image/assets/TEMP/ecbfde8b-b1be-4e06-a97f-caaee80b3417?apiKey=2e880f8a63264fa0ae8a2beed9383f6d&width=800 800w, https://cdn.builder.io/api/v1/image/assets/TEMP/ecbfde8b-b1be-4e06-a97f-caaee80b3417?apiKey=2e880f8a63264fa0ae8a2beed9383f6d&width=1200 1200w, https://cdn.builder.io/api/v1/image/assets/TEMP/ecbfde8b-b1be-4e06-a97f-caaee80b3417?apiKey=2e880f8a63264fa0ae8a2beed9383f6d&width=1600 1600w, https://cdn.builder.io/api/v1/image/assets/TEMP/ecbfde8b-b1be-4e06-a97f-caaee80b3417?apiKey=2e880f8a63264fa0ae8a2beed9383f6d&width=2000 2000w, https://cdn.builder.io/api/v1/image/assets/TEMP/ecbfde8b-b1be-4e06-a97f-caaee80b3417?apiKey=2e880f8a63264fa0ae8a2beed9383f6d&\"\n",
        "          class=\"img\"\n",
        "        />\n",
        "      </div>\n",
        "<br>\n",
        "<div class=\"center\">\n",
        "<h3>Event Search</h3>\n",
        "<form action=\"/dropdown\" method=\"post\">\n",
        "  <label for=\"event_borough\"><strong>Where are you?</strong></label><br>\n",
        "  <select name=\"event_borough\" id=\"event_borough\">\n",
        "    <option value=\"-Select a Borough-\">-Select a Borough-</option>\n",
        "    <option value=\"Manhattan\">Manhattan</option>\n",
        "    <option value=\"Brooklyn\">Brooklyn</option>\n",
        "    <option value=\"Queens\">Queens</option>\n",
        "    <option value=\"Bronx\">Bronx</option>\n",
        "    <option value=\"Staten Island\">Staten Island</option>\n",
        "  </select>\n",
        "  <br><br>\n",
        "  <label for=\"week_day\"><strong>What days of the week you are interested?</strong></label><br>\n",
        "  <select name=\"week_day\" id=\"week_day\">\n",
        "    <option value=\"-Select Days-\">-Select Days-</option>\n",
        "    <option value=\"Weekday\">Weekday</option>\n",
        "    <option value=\"Weekend\">Weekend</option>\n",
        "  </select>\n",
        "  <br><br>\n",
        "  <input type=\"submit\" value=\"Search\" name='submit'>\n",
        "</form>\n",
        "<br><br>\n",
        "\n",
        "<h3 class=\"gfg\" >Login</h3>\n",
        "<h3 class=\"strong\" >{{info}} </h3>\n",
        "<form action=\"/login\" method=\"post\">\n",
        "  <h3></h3><strong>Username:</strong> <br>\n",
        "  <input type=\"text\" name='username'><br>\n",
        "  <strong>Password:</strong><br>\n",
        "  <input type = \"password\" name='password' ><br><br>\n",
        "<input  type=\"submit\" value=\"Login\" name = 'login'>\n",
        "</form>\n",
        "</div>\n",
        "\n",
        "</body>\n",
        "</html>"
      ]
    },
    {
      "cell_type": "code",
      "execution_count": 47,
      "metadata": {
        "colab": {
          "base_uri": "https://localhost:8080/"
        },
        "id": "5xv9tWr-GIra",
        "outputId": "13190f40-c4b6-4b69-a356-bed32291b242"
      },
      "outputs": [
        {
          "output_type": "stream",
          "name": "stdout",
          "text": [
            "Overwriting templates/about.html\n"
          ]
        }
      ],
      "source": [
        "%%writefile templates/about.html\n",
        "<!DOCTYPE html>\n",
        "<html>\n",
        "<head>\n",
        "<title>NYC Event Explorer</title>\n",
        "<link rel=\"stylesheet\" href=\"https://cdn.jsdelivr.net/npm/bootswatch@4.5.2/dist/litera/bootstrap.min.css\" integrity=\"sha384-enpDwFISL6M3ZGZ50Tjo8m65q06uLVnyvkFO3rsoW0UC15ATBFz3QEhr3hmxpYsn\" crossorigin=\"anonymous\">\n",
        "<style>\n",
        "ul {\n",
        "      list-style-type: none;\n",
        "      margin: 0;\n",
        "      padding: 0;\n",
        "      background-color: #ffffff;\n",
        "      overflow: hidden;\n",
        "    }\n",
        "\n",
        "    li {\n",
        "      float: left;\n",
        "    }\n",
        "\n",
        "    li a {\n",
        "      display: block;\n",
        "      color: black;\n",
        "      text-align: right;\n",
        "      padding: 14px 16px;\n",
        "      text-decoration: none;\n",
        "    }\n",
        " h2 {\n",
        "      text-decoration: underline;\n",
        "    }\n",
        ".image-container {\n",
        "      display: inline-block;\n",
        "      margin-right: 10px;\n",
        "    }\n",
        ".custom-image {\n",
        "      width: 300px;\n",
        "      height: auto;\n",
        "    }\n",
        ".inline-paragraph {\n",
        "      display: inline-block;\n",
        "      margin-right: 220px;\n",
        "    }\n",
        "</style>\n",
        "</head>\n",
        "\n",
        "<body style=\"background-color:#F4F6F5;\">\n",
        "<ul>\n",
        "    <li><strong><a style=\"font-size:200%;\">NYC Event Explorer</a></strong></li>\n",
        "    <li><a href=\"../\" style=\"font-size:120%;\">Home</a></strong></li>\n",
        "    <li><strong><a href=\"../about\" style=\"font-size:120%;\">About</a></strong></li>\n",
        "    <li><a href=\"../help\" style=\"font-size:120%;\">Help</a></li>\n",
        "  </ul>\n",
        "<br>\n",
        "<h2>Our Mission</h2>\n",
        "<p>In the heart of NYC, every corner brings\n",
        "a new adventure, a unique experience, a story\n",
        "waiting to be told. Our mission is to connect you with  these stories. Where you are local or a visitor, we believe there is an event in NYC that’s just right for you. </p>\n",
        "<br>\n",
        "<h2>Why Choose Us?</h2>\n",
        "<p>\n",
        "Tailored to your  lifestyle, we understand  that everyone’s tastes are different.  That’s why our  Editor’s Choices are as unique as you are.\n",
        "</p>\n",
        "<br>\n",
        "<h2>Meet the Team</h2>\n",
        "<p>NYC Event Explorer is brought to you by a team of NYC enthusiasts . We're a diverse group united by our love for this city and our commitment to enhancing your experience within it.</p>\n",
        "<div class=\".image-container\">\n",
        "<img\n",
        "  loading=\"lazy\"\n",
        "  srcset=\"https://cdn.builder.io/api/v1/image/assets/TEMP/7b51bd8ea203d1874b6be8bb5043f1930c32af885efa6f38b9fd93103969b6a3?apiKey=2e880f8a63264fa0ae8a2beed9383f6d&width=100 100w, https://cdn.builder.io/api/v1/image/assets/TEMP/7b51bd8ea203d1874b6be8bb5043f1930c32af885efa6f38b9fd93103969b6a3?apiKey=2e880f8a63264fa0ae8a2beed9383f6d&width=200 200w, https://cdn.builder.io/api/v1/image/assets/TEMP/7b51bd8ea203d1874b6be8bb5043f1930c32af885efa6f38b9fd93103969b6a3?apiKey=2e880f8a63264fa0ae8a2beed9383f6d&width=400 400w, https://cdn.builder.io/api/v1/image/assets/TEMP/7b51bd8ea203d1874b6be8bb5043f1930c32af885efa6f38b9fd93103969b6a3?apiKey=2e880f8a63264fa0ae8a2beed9383f6d&width=800 800w, https://cdn.builder.io/api/v1/image/assets/TEMP/7b51bd8ea203d1874b6be8bb5043f1930c32af885efa6f38b9fd93103969b6a3?apiKey=2e880f8a63264fa0ae8a2beed9383f6d&width=1200 1200w, https://cdn.builder.io/api/v1/image/assets/TEMP/7b51bd8ea203d1874b6be8bb5043f1930c32af885efa6f38b9fd93103969b6a3?apiKey=2e880f8a63264fa0ae8a2beed9383f6d&width=1600 1600w, https://cdn.builder.io/api/v1/image/assets/TEMP/7b51bd8ea203d1874b6be8bb5043f1930c32af885efa6f38b9fd93103969b6a3?apiKey=2e880f8a63264fa0ae8a2beed9383f6d&width=2000 2000w, https://cdn.builder.io/api/v1/image/assets/TEMP/7b51bd8ea203d1874b6be8bb5043f1930c32af885efa6f38b9fd93103969b6a3?apiKey=2e880f8a63264fa0ae8a2beed9383f6d&\"\n",
        "  class=\"custom-image\"\n",
        "/>\n",
        "<img\n",
        "  loading=\"lazy\"\n",
        "  srcset=\"https://cdn.builder.io/api/v1/image/assets/TEMP/e355de788a194967dbad59c0de59628022ef6923907a753e5ab24824b9bf1da3?apiKey=2e880f8a63264fa0ae8a2beed9383f6d&width=100 100w, https://cdn.builder.io/api/v1/image/assets/TEMP/e355de788a194967dbad59c0de59628022ef6923907a753e5ab24824b9bf1da3?apiKey=2e880f8a63264fa0ae8a2beed9383f6d&width=200 200w, https://cdn.builder.io/api/v1/image/assets/TEMP/e355de788a194967dbad59c0de59628022ef6923907a753e5ab24824b9bf1da3?apiKey=2e880f8a63264fa0ae8a2beed9383f6d&width=400 400w, https://cdn.builder.io/api/v1/image/assets/TEMP/e355de788a194967dbad59c0de59628022ef6923907a753e5ab24824b9bf1da3?apiKey=2e880f8a63264fa0ae8a2beed9383f6d&width=800 800w, https://cdn.builder.io/api/v1/image/assets/TEMP/e355de788a194967dbad59c0de59628022ef6923907a753e5ab24824b9bf1da3?apiKey=2e880f8a63264fa0ae8a2beed9383f6d&width=1200 1200w, https://cdn.builder.io/api/v1/image/assets/TEMP/e355de788a194967dbad59c0de59628022ef6923907a753e5ab24824b9bf1da3?apiKey=2e880f8a63264fa0ae8a2beed9383f6d&width=1600 1600w, https://cdn.builder.io/api/v1/image/assets/TEMP/e355de788a194967dbad59c0de59628022ef6923907a753e5ab24824b9bf1da3?apiKey=2e880f8a63264fa0ae8a2beed9383f6d&width=2000 2000w, https://cdn.builder.io/api/v1/image/assets/TEMP/e355de788a194967dbad59c0de59628022ef6923907a753e5ab24824b9bf1da3?apiKey=2e880f8a63264fa0ae8a2beed9383f6d&\"\n",
        "  class=\"custom-image\"\n",
        "/>\n",
        "<img\n",
        "  loading=\"lazy\"\n",
        "  srcset=\"https://cdn.builder.io/api/v1/image/assets/TEMP/fc07bbcc25a9dec9bac8bccff50bddf50a355c1aea67d0f5ae1204cfb4ea8c2f?apiKey=2e880f8a63264fa0ae8a2beed9383f6d&width=100 100w, https://cdn.builder.io/api/v1/image/assets/TEMP/fc07bbcc25a9dec9bac8bccff50bddf50a355c1aea67d0f5ae1204cfb4ea8c2f?apiKey=2e880f8a63264fa0ae8a2beed9383f6d&width=200 200w, https://cdn.builder.io/api/v1/image/assets/TEMP/fc07bbcc25a9dec9bac8bccff50bddf50a355c1aea67d0f5ae1204cfb4ea8c2f?apiKey=2e880f8a63264fa0ae8a2beed9383f6d&width=400 400w, https://cdn.builder.io/api/v1/image/assets/TEMP/fc07bbcc25a9dec9bac8bccff50bddf50a355c1aea67d0f5ae1204cfb4ea8c2f?apiKey=2e880f8a63264fa0ae8a2beed9383f6d&width=800 800w, https://cdn.builder.io/api/v1/image/assets/TEMP/fc07bbcc25a9dec9bac8bccff50bddf50a355c1aea67d0f5ae1204cfb4ea8c2f?apiKey=2e880f8a63264fa0ae8a2beed9383f6d&width=1200 1200w, https://cdn.builder.io/api/v1/image/assets/TEMP/fc07bbcc25a9dec9bac8bccff50bddf50a355c1aea67d0f5ae1204cfb4ea8c2f?apiKey=2e880f8a63264fa0ae8a2beed9383f6d&width=1600 1600w, https://cdn.builder.io/api/v1/image/assets/TEMP/fc07bbcc25a9dec9bac8bccff50bddf50a355c1aea67d0f5ae1204cfb4ea8c2f?apiKey=2e880f8a63264fa0ae8a2beed9383f6d&width=2000 2000w, https://cdn.builder.io/api/v1/image/assets/TEMP/fc07bbcc25a9dec9bac8bccff50bddf50a355c1aea67d0f5ae1204cfb4ea8c2f?apiKey=2e880f8a63264fa0ae8a2beed9383f6d&\"\n",
        "  class=\"custom-image\"\n",
        "/>\n",
        "<img\n",
        "  loading=\"lazy\"\n",
        "  srcset=\"https://cdn.builder.io/api/v1/image/assets/TEMP/389c218b17559513da2695a95b86b8dccdadb4d023d391f99226f9628dfab831?apiKey=2e880f8a63264fa0ae8a2beed9383f6d&width=100 100w, https://cdn.builder.io/api/v1/image/assets/TEMP/389c218b17559513da2695a95b86b8dccdadb4d023d391f99226f9628dfab831?apiKey=2e880f8a63264fa0ae8a2beed9383f6d&width=200 200w, https://cdn.builder.io/api/v1/image/assets/TEMP/389c218b17559513da2695a95b86b8dccdadb4d023d391f99226f9628dfab831?apiKey=2e880f8a63264fa0ae8a2beed9383f6d&width=400 400w, https://cdn.builder.io/api/v1/image/assets/TEMP/389c218b17559513da2695a95b86b8dccdadb4d023d391f99226f9628dfab831?apiKey=2e880f8a63264fa0ae8a2beed9383f6d&width=800 800w, https://cdn.builder.io/api/v1/image/assets/TEMP/389c218b17559513da2695a95b86b8dccdadb4d023d391f99226f9628dfab831?apiKey=2e880f8a63264fa0ae8a2beed9383f6d&width=1200 1200w, https://cdn.builder.io/api/v1/image/assets/TEMP/389c218b17559513da2695a95b86b8dccdadb4d023d391f99226f9628dfab831?apiKey=2e880f8a63264fa0ae8a2beed9383f6d&width=1600 1600w, https://cdn.builder.io/api/v1/image/assets/TEMP/389c218b17559513da2695a95b86b8dccdadb4d023d391f99226f9628dfab831?apiKey=2e880f8a63264fa0ae8a2beed9383f6d&width=2000 2000w, https://cdn.builder.io/api/v1/image/assets/TEMP/389c218b17559513da2695a95b86b8dccdadb4d023d391f99226f9628dfab831?apiKey=2e880f8a63264fa0ae8a2beed9383f6d&\"\n",
        "  class=\"custom-image\"\n",
        "/>\n",
        "</div>\n",
        "<div class=\"inline-paragraph\">\n",
        "<p><strong>Asher Vaysblat</strong></p>\n",
        "</div>\n",
        "<div class=\"inline-paragraph\">\n",
        "<p><strong>Shah Alam</strong></p>\n",
        "</div>\n",
        "<div class=\"inline-paragraph\">\n",
        "<p><strong>Xuke Chen</strong></p>\n",
        "</div>\n",
        "<div class=\"inline-paragraph\">\n",
        "<p><strong>Inna Diambekova</strong></p>\n",
        "</div>\n",
        "</body>\n",
        "</html>"
      ]
    },
    {
      "cell_type": "code",
      "execution_count": 48,
      "metadata": {
        "colab": {
          "base_uri": "https://localhost:8080/"
        },
        "id": "8JnXQugDH4qS",
        "outputId": "e7d35317-c4ec-4a32-bdcd-9b8a1a4a5c4f"
      },
      "outputs": [
        {
          "output_type": "stream",
          "name": "stdout",
          "text": [
            "Overwriting templates/help.html\n"
          ]
        }
      ],
      "source": [
        "%%writefile templates/help.html\n",
        "<!DOCTYPE html>\n",
        "<html>\n",
        "<head>\n",
        "<title>NYC Event Explorer</title>\n",
        "<link rel=\"stylesheet\" href=\"https://cdn.jsdelivr.net/npm/bootswatch@4.5.2/dist/litera/bootstrap.min.css\" integrity=\"sha384-enpDwFISL6M3ZGZ50Tjo8m65q06uLVnyvkFO3rsoW0UC15ATBFz3QEhr3hmxpYsn\" crossorigin=\"anonymous\">\n",
        "<style>\n",
        "ul {\n",
        "      list-style-type: none;\n",
        "      margin: 0;\n",
        "      padding: 0;\n",
        "      background-color: #ffffff;\n",
        "      overflow: hidden;\n",
        "    }\n",
        "\n",
        "    li {\n",
        "      float: left;\n",
        "    }\n",
        "\n",
        "    li a {\n",
        "      display: block;\n",
        "      color: black;\n",
        "      text-align: right;\n",
        "      padding: 14px 16px;\n",
        "      text-decoration: none;\n",
        "    }\n",
        ".center {\n",
        "            text-align: center;\n",
        "        }\n",
        "</style>\n",
        "</head>\n",
        "\n",
        "<body style=\"background-color:#F4F6F5;\">\n",
        "<ul>\n",
        "    <li><strong><a style=\"font-size:200%;\">NYC Event Explorer</a></strong></li>\n",
        "    <li><a href=\"../\" style=\"font-size:120%;\">Home</a></strong></li>\n",
        "    <li><a href=\"../about\" style=\"font-size:120%;\">About</a></strong></li>\n",
        "    <li><strong><a href=\"../help\" style=\"font-size:120%;\">Help</a></strong></li>\n",
        "  </ul>\n",
        "<br>\n",
        "<div class=\"center\">\n",
        "<h2>FAQ</h2>\n",
        "<p>Q: What is NYC EXPLORER?</p>\n",
        "<p>A: NYC EXPLORER is an application designed to help both locals and tourists discover and explore the many attractions of New York City, from famous landmarks to hidden gems.</p>\n",
        "<br>\n",
        "<p>Q: How do I find places to visit in NYC using the app?</p>\n",
        "<p>A: You can search for places by selecting boroughs and weekday or weekend. </p>\n",
        "<br>\n",
        "<p>Q: Is there a cost to use NYC EXPLORER?</p>\n",
        "<p>A: The basic version of NYC EXPLORER is free to all users. We also offer a premium version with Editor’s Choice Selection of Events</p>\n",
        "<br>\n",
        "<p>Q: Does the app provide real-time updates on attractions?</p>\n",
        "<p>A: Yes, NYC EXPLORER offers real-time updates on various attractions, including opening hours, ticket availability, and special events.</p>\n",
        "<img\n",
        "  loading=\"lazy\"\n",
        "  srcset=\"https://cdn.builder.io/api/v1/image/assets/TEMP/309339070d9b9028da091f4d16e6927f27fb15f8f161bea48de3e0c26bd9048d?apiKey=2e880f8a63264fa0ae8a2beed9383f6d&width=100 100w, https://cdn.builder.io/api/v1/image/assets/TEMP/309339070d9b9028da091f4d16e6927f27fb15f8f161bea48de3e0c26bd9048d?apiKey=2e880f8a63264fa0ae8a2beed9383f6d&width=200 200w, https://cdn.builder.io/api/v1/image/assets/TEMP/309339070d9b9028da091f4d16e6927f27fb15f8f161bea48de3e0c26bd9048d?apiKey=2e880f8a63264fa0ae8a2beed9383f6d&width=400 400w, https://cdn.builder.io/api/v1/image/assets/TEMP/309339070d9b9028da091f4d16e6927f27fb15f8f161bea48de3e0c26bd9048d?apiKey=2e880f8a63264fa0ae8a2beed9383f6d&width=800 800w, https://cdn.builder.io/api/v1/image/assets/TEMP/309339070d9b9028da091f4d16e6927f27fb15f8f161bea48de3e0c26bd9048d?apiKey=2e880f8a63264fa0ae8a2beed9383f6d&width=1200 1200w, https://cdn.builder.io/api/v1/image/assets/TEMP/309339070d9b9028da091f4d16e6927f27fb15f8f161bea48de3e0c26bd9048d?apiKey=2e880f8a63264fa0ae8a2beed9383f6d&width=1600 1600w, https://cdn.builder.io/api/v1/image/assets/TEMP/309339070d9b9028da091f4d16e6927f27fb15f8f161bea48de3e0c26bd9048d?apiKey=2e880f8a63264fa0ae8a2beed9383f6d&width=2000 2000w, https://cdn.builder.io/api/v1/image/assets/TEMP/309339070d9b9028da091f4d16e6927f27fb15f8f161bea48de3e0c26bd9048d?apiKey=2e880f8a63264fa0ae8a2beed9383f6d&\"\n",
        "  width=\"500\" height=\"500\"\n",
        "/>\n",
        "<br><br>\n",
        "<br>\n",
        "<h2>Contact Us</h2>\n",
        "<p>Phone: (123) 456-7890<br>Email: contact@nyceventexplorer.com</p>\n",
        "<p>123 45th Street<br>New York, NY 10000</p>\n",
        "</div>\n",
        "\n",
        "</body>\n",
        "</html>"
      ]
    },
    {
      "cell_type": "code",
      "execution_count": 49,
      "metadata": {
        "colab": {
          "base_uri": "https://localhost:8080/"
        },
        "id": "AFxSejhnV_Dw",
        "outputId": "8a3a5803-3daa-409c-f83c-ab21247ab139"
      },
      "outputs": [
        {
          "output_type": "stream",
          "name": "stdout",
          "text": [
            "Overwriting templates/results.html\n"
          ]
        }
      ],
      "source": [
        "%%writefile templates/results.html\n",
        "<!DOCTYPE html>\n",
        "<html>\n",
        "<head>\n",
        "<title>NYC Event Explorer</title>\n",
        "<link rel=\"stylesheet\" href=\"https://cdn.jsdelivr.net/npm/bootswatch@4.5.2/dist/litera/bootstrap.min.css\" integrity=\"sha384-enpDwFISL6M3ZGZ50Tjo8m65q06uLVnyvkFO3rsoW0UC15ATBFz3QEhr3hmxpYsn\" crossorigin=\"anonymous\">\n",
        "<style>\n",
        "ul {\n",
        "      list-style-type: none;\n",
        "      margin: 0;\n",
        "      padding: 0;\n",
        "      background-color: #ffffff;\n",
        "      overflow: hidden;\n",
        "    }\n",
        "\n",
        "    li {\n",
        "      float: left;\n",
        "    }\n",
        "\n",
        "    li a {\n",
        "      display: block;\n",
        "      color: black;\n",
        "      text-align: right;\n",
        "      padding: 14px 16px;\n",
        "      text-decoration: none;\n",
        "    }\n",
        "</style>\n",
        "</head>\n",
        "\n",
        "<body style=\"background-color:#F4F6F5;\">\n",
        "<ul>\n",
        "    <li><strong><a style=\"font-size:200%;\">NYC Event Explorer</a></strong></li>\n",
        "    <li><a href=\"../\" style=\"font-size:120%;\">Home</a></strong></li>\n",
        "    <li><a href=\"../about\" style=\"font-size:120%;\">About</a></strong></li>\n",
        "    <li><a href=\"../help\" style=\"font-size:120%;\">Help</a></li>\n",
        "  </ul>\n",
        "<br>\n",
        "<h2>Search Results</h2>\n",
        "<p>There are <strong>{{n}}</strong> events that match your preferences:</p>\n",
        "<p>{{boro}} | {{days}}</p>\n",
        "<br><br>\n",
        "<p><strong>Events in next 7 Days</strong></p>\n",
        "<div>\n",
        "  {{f_e_7 | safe}}\n",
        "</div>\n",
        "<br><br>\n",
        "\n",
        "<p><strong>Events in a Later Time:</strong></p>\n",
        "<div>\n",
        "  {{f_e | safe}}\n",
        "</div>\n",
        "\n",
        "</body>\n",
        "</html>"
      ]
    },
    {
      "cell_type": "code",
      "source": [
        "%%writefile templates/login.html\n",
        "<!DOCTYPE html>\n",
        "<html>\n",
        "<head>\n",
        "<title>NYC Event Explorer</title>\n",
        "<link rel=\"stylesheet\" href=\"https://cdn.jsdelivr.net/npm/bootswatch@4.5.2/dist/litera/bootstrap.min.css\" integrity=\"sha384-enpDwFISL6M3ZGZ50Tjo8m65q06uLVnyvkFO3rsoW0UC15ATBFz3QEhr3hmxpYsn\" crossorigin=\"anonymous\">\n",
        "<style>\n",
        "ul {\n",
        "      list-style-type: none;\n",
        "      margin: 0;\n",
        "      padding: 0;\n",
        "      background-color: #ffffff;\n",
        "      overflow: hidden;\n",
        "    }\n",
        "\n",
        "    li {\n",
        "      float: left;\n",
        "    }\n",
        "\n",
        "    li a {\n",
        "      display: block;\n",
        "      color: black;\n",
        "      text-align: right;\n",
        "      padding: 14px 16px;\n",
        "      text-decoration: none;\n",
        "    }\n",
        "</style>\n",
        "</head>\n",
        "\n",
        "<body style=\"background-color:#F4F6F5;\">\n",
        "<ul>\n",
        "    <li><strong><a style=\"font-size:200%;\">NYC Event Explorer</a></strong></li>\n",
        "    <li><a href=\"../\" style=\"font-size:120%;\">Home</a></strong></li>\n",
        "    <li><a href=\"../about\" style=\"font-size:120%;\">About</a></strong></li>\n",
        "    <li><a href=\"../help\" style=\"font-size:120%;\">Help</a></li>\n",
        "  </ul>\n",
        "<br>\n",
        "<h2>Editor's Choice</h2>\n",
        "<img\n",
        "  loading=\"lazy\"\n",
        "  srcset=\"https://cdn.builder.io/api/v1/image/assets/TEMP/c4c3f8d4-e61f-4f1e-958a-9d0da674e5a9?apiKey=2e880f8a63264fa0ae8a2beed9383f6d&width=100 100w, https://cdn.builder.io/api/v1/image/assets/TEMP/c4c3f8d4-e61f-4f1e-958a-9d0da674e5a9?apiKey=2e880f8a63264fa0ae8a2beed9383f6d&width=200 200w, https://cdn.builder.io/api/v1/image/assets/TEMP/c4c3f8d4-e61f-4f1e-958a-9d0da674e5a9?apiKey=2e880f8a63264fa0ae8a2beed9383f6d&width=400 400w, https://cdn.builder.io/api/v1/image/assets/TEMP/c4c3f8d4-e61f-4f1e-958a-9d0da674e5a9?apiKey=2e880f8a63264fa0ae8a2beed9383f6d&width=800 800w, https://cdn.builder.io/api/v1/image/assets/TEMP/c4c3f8d4-e61f-4f1e-958a-9d0da674e5a9?apiKey=2e880f8a63264fa0ae8a2beed9383f6d&width=1200 1200w, https://cdn.builder.io/api/v1/image/assets/TEMP/c4c3f8d4-e61f-4f1e-958a-9d0da674e5a9?apiKey=2e880f8a63264fa0ae8a2beed9383f6d&width=1600 1600w, https://cdn.builder.io/api/v1/image/assets/TEMP/c4c3f8d4-e61f-4f1e-958a-9d0da674e5a9?apiKey=2e880f8a63264fa0ae8a2beed9383f6d&width=2000 2000w, https://cdn.builder.io/api/v1/image/assets/TEMP/c4c3f8d4-e61f-4f1e-958a-9d0da674e5a9?apiKey=2e880f8a63264fa0ae8a2beed9383f6d&\"\n",
        "/>\n",
        "<br><br>\n",
        "<p>Thanks for being a valued member of NYC Event Explorer! </p>\n",
        "<p>Here is our editors' choice for you to explore NYC during the holiday season.</p>\n",
        "<br>\n",
        "<div>\n",
        "  {{e_c | safe}}\n",
        "</div>\n",
        "</body>\n",
        "</html>"
      ],
      "metadata": {
        "colab": {
          "base_uri": "https://localhost:8080/"
        },
        "id": "FDSZZze23I5f",
        "outputId": "9afc5279-efa6-45b4-841f-754476cc28be"
      },
      "execution_count": 50,
      "outputs": [
        {
          "output_type": "stream",
          "name": "stdout",
          "text": [
            "Overwriting templates/login.html\n"
          ]
        }
      ]
    },
    {
      "cell_type": "markdown",
      "metadata": {
        "id": "tlPKRzwiiKlb"
      },
      "source": [
        "### D.**Website**"
      ]
    },
    {
      "cell_type": "code",
      "execution_count": 51,
      "metadata": {
        "id": "ZknnsfMnHu7h"
      },
      "outputs": [],
      "source": [
        "from flask import Flask, render_template, request, session, redirect, url_for\n",
        "from flask_ngrok import run_with_ngrok\n",
        "from datetime import datetime, date, timedelta\n",
        "import pytz # needed to set time zone\n",
        "import pandas as pd\n",
        "#from flask_session import Session\n",
        "\n",
        "\n",
        "app = Flask(__name__)\n",
        "run_with_ngrok(app)   #starts ngrok when the app is running\n",
        "app.secret_key = 'FundamentalsOfPython'\n",
        "\n",
        "database = {'NYC': 'nyc'}\n",
        "\n",
        "#Get future events after 7 days method\n",
        "def get_events(event_borough, week_day):\n",
        "    future_events=pd.DataFrame()\n",
        "    date = datetime.now(pytz.timezone(\"US/Eastern\")).date()\n",
        "    date_7 = date + timedelta(days=7)\n",
        "    for x in df.index:\n",
        "      if datetime.strptime(df.at[x,'start_date'], '%Y-%m-%d').date() > date_7:\n",
        "        future_events = future_events.append(df.iloc[x])\n",
        "    future_events['start_date'] = pd.to_datetime(df['start_date'])#converting string to date\n",
        "    future_events=future_events.sort_values(by='start_date')#sort events chronologically\n",
        "    if event_borough != '-Select a Borough-':\n",
        "      future_events=future_events[future_events['event_borough']==event_borough]\n",
        "    if week_day != '-Select Days-':\n",
        "      if week_day == \"Weekday\":\n",
        "        future_events=future_events[future_events['start_day'].isin([\"Monday\",\"Tuesday\",\"Wednesday\",\"Thursday\",\"Friday\"])]\n",
        "      if week_day == \"Weekend\":\n",
        "        future_events=future_events[future_events['start_day'].isin([\"Saturday\",\"Sunday\"])]\n",
        "    f_e=future_events.to_html(index=False)\n",
        "    return f_e\n",
        "\n",
        "#Get future 7 days events method\n",
        "def get_events_7(event_borough, week_day):\n",
        "    future_events_7=pd.DataFrame()\n",
        "    date = datetime.now(pytz.timezone(\"US/Eastern\")).date()\n",
        "    date_7 = date + timedelta(days=7)\n",
        "    for x in df.index:\n",
        "      if date <= datetime.strptime(df.at[x,'start_date'], '%Y-%m-%d').date() <= date_7:\n",
        "        future_events_7 = future_events_7.append(df.iloc[x])\n",
        "    future_events_7['start_date'] = pd.to_datetime(df['start_date'])#converting string to date\n",
        "    future_events_7=future_events_7.sort_values(by='start_date')#sort events chronologically\n",
        "    if event_borough != '-Select a Borough-':\n",
        "      future_events_7=future_events_7[future_events_7['event_borough']==event_borough]\n",
        "    if week_day != '-Select Days-':\n",
        "      if week_day == \"Weekday\":\n",
        "        future_events_7=future_events_7[future_events_7['start_day'].isin([\"Monday\",\"Tuesday\",\"Wednesday\",\"Thursday\",\"Friday\"])]\n",
        "      if week_day == \"Weekend\":\n",
        "        future_events_7=future_events_7[future_events_7['start_day'].isin([\"Saturday\",\"Sunday\"])]\n",
        "    f_e_7=future_events_7.to_html(index=False)\n",
        "    return f_e_7\n",
        "\n",
        "#Get editor's choice method\n",
        "def get_e_c():\n",
        "    editor_choice = pd.DataFrame()\n",
        "    current_date = datetime.now(pytz.timezone(\"US/Eastern\")).date()\n",
        "    date_2024=date(2024, 1, 1)\n",
        "    for index, row in editor.iterrows():\n",
        "        start_date = datetime.strptime(row['start_date'], '%Y-%m-%d').date()\n",
        "\n",
        "        if current_date <= start_date <= date_2024:\n",
        "            editor_choice = editor_choice.append(row)\n",
        "\n",
        "    editor_choice['start_date'] = pd.to_datetime(editor_choice['start_date'])\n",
        "    editor_choice = editor_choice.sort_values(by='start_date')\n",
        "    e_c = editor_choice.to_html(index=False)\n",
        "    return e_c\n",
        "\n",
        "#Home page\n",
        "@app.route(\"/\")\n",
        "def home():\n",
        "  return render_template('home.html')\n",
        "\n",
        "@app.route('/dropdown', methods=['POST', 'GET'])\n",
        "def dropdown():\n",
        "    if request.method=='POST':\n",
        "        event_borough = request.form['event_borough']\n",
        "        week_day = request.form['week_day']\n",
        "        if event_borough != \"-Select a Borough-\":\n",
        "          boro=event_borough\n",
        "        else:\n",
        "          boro=\"All Boroughs\"\n",
        "        if week_day != \"-Select Days-\":\n",
        "          days=week_day\n",
        "        else:\n",
        "          days=\"All Days\"\n",
        "        f_e=get_events(event_borough, week_day)\n",
        "        f_e_7=get_events_7(event_borough, week_day)\n",
        "        n1=len(pd.read_html(f_e_7)[0])\n",
        "        n2=len(pd.read_html(f_e)[0])\n",
        "        n=n1+n2\n",
        "        return render_template('results.html', f_e=f_e, n=n, f_e_7=f_e_7, boro=boro, days=days)\n",
        "\n",
        "@app.route('/login', methods = ['POST', 'GET'])\n",
        "def login():\n",
        "    if request.method == \"POST\":\n",
        "      username = request.form['username']\n",
        "      password = request.form['password']\n",
        "      login = request.form.get('login')\n",
        "      if login is not None:\n",
        "      # Non registered user\n",
        "        if  username not in database:\n",
        "          return render_template('home.html',\n",
        "                                  info='Invalid User ????!')\n",
        "        else:\n",
        "          # Incorrect password\n",
        "          if database[username] != password:\n",
        "            return render_template('home.html',\n",
        "                                    info='Invalid Password ????!')\n",
        "          else:\n",
        "            session['username'] = request.form['username'] # Store the username in a session if logged in correctly\n",
        "            e_c=get_e_c()\n",
        "            return render_template('login.html', e_c=e_c)\n",
        "    else:\n",
        "      return render_template('home.html')\n",
        "\n",
        "\n",
        "#About page\n",
        "@app.route(\"/about\")\n",
        "def about():\n",
        "  return render_template(\"about.html\")\n",
        "\n",
        "#Help page\n",
        "@app.route(\"/help\")\n",
        "def help():\n",
        "  return render_template(\"help.html\")"
      ]
    },
    {
      "cell_type": "code",
      "execution_count": 52,
      "metadata": {
        "id": "TBuZNHK2hA34",
        "colab": {
          "base_uri": "https://localhost:8080/"
        },
        "outputId": "1d7a4088-d745-4c23-d459-7d274d2df6ac"
      },
      "outputs": [
        {
          "output_type": "stream",
          "name": "stdout",
          "text": [
            " * Serving Flask app '__main__'\n",
            " * Debug mode: off\n"
          ]
        },
        {
          "output_type": "stream",
          "name": "stderr",
          "text": [
            "INFO:werkzeug:\u001b[31m\u001b[1mWARNING: This is a development server. Do not use it in a production deployment. Use a production WSGI server instead.\u001b[0m\n",
            " * Running on http://127.0.0.1:5000\n",
            "INFO:werkzeug:\u001b[33mPress CTRL+C to quit\u001b[0m\n"
          ]
        },
        {
          "output_type": "stream",
          "name": "stdout",
          "text": [
            " * Running on http://69f5-34-82-230-166.ngrok-free.app\n",
            " * Traffic stats available on http://127.0.0.1:4040\n"
          ]
        },
        {
          "output_type": "stream",
          "name": "stderr",
          "text": [
            "INFO:werkzeug:127.0.0.1 - - [18/Jan/2024 00:08:42] \"GET / HTTP/1.1\" 200 -\n",
            "INFO:werkzeug:127.0.0.1 - - [18/Jan/2024 00:08:43] \"\u001b[33mGET /favicon.ico HTTP/1.1\u001b[0m\" 404 -\n",
            "INFO:werkzeug:127.0.0.1 - - [18/Jan/2024 00:09:04] \"GET / HTTP/1.1\" 200 -\n"
          ]
        }
      ],
      "source": [
        "if __name__ == \"__main__\":\n",
        "    app.run()"
      ]
    }
  ],
  "metadata": {
    "colab": {
      "provenance": []
    },
    "kernelspec": {
      "display_name": "Python 3",
      "name": "python3"
    }
  },
  "nbformat": 4,
  "nbformat_minor": 0
}